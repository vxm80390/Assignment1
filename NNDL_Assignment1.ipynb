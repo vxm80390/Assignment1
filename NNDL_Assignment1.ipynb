{
 "cells": [
  {
   "cell_type": "markdown",
   "id": "ede93ad2",
   "metadata": {},
   "source": [
    "## Neural Networks Deep Learning - Assignment 1\n",
    "* Name: Vasi Vur Rehman Mohammad \n",
    "* UCM Mailid: vxm80390@ucmo.edu \n",
    "* 700748039"
   ]
  },
  {
   "cell_type": "markdown",
   "id": "86ec3ddc",
   "metadata": {},
   "source": [
    "### Q1. Implement Naïve Bayes method using scikit-learn library. \n",
    "* Use dataset available with name glass. \n",
    "* Use train_test_split to create training and testing part. \n",
    "* Evaluate the model on test part using score and classification_report"
   ]
  },
  {
   "cell_type": "code",
   "execution_count": 20,
   "id": "41451da0",
   "metadata": {},
   "outputs": [
    {
     "name": "stdout",
     "output_type": "stream",
     "text": [
      "Accuracy: 55.81395348837209\n",
      "Classification Report:\n",
      "               precision    recall  f1-score   support\n",
      "\n",
      "           1       0.41      0.64      0.50        11\n",
      "           2       0.43      0.21      0.29        14\n",
      "           3       0.40      0.67      0.50         3\n",
      "           5       0.50      0.25      0.33         4\n",
      "           6       1.00      1.00      1.00         3\n",
      "           7       0.89      1.00      0.94         8\n",
      "\n",
      "    accuracy                           0.56        43\n",
      "   macro avg       0.60      0.63      0.59        43\n",
      "weighted avg       0.55      0.56      0.53        43\n",
      "\n"
     ]
    }
   ],
   "source": [
    "#importing necessary libraries\n",
    "import pandas as pd\n",
    "from sklearn.model_selection import train_test_split\n",
    "from sklearn.naive_bayes import GaussianNB\n",
    "from sklearn.metrics import classification_report\n",
    "\n",
    "# using pandas to read the input csv file\n",
    "data = pd.read_csv('/Users/RehmanVasi/Downloads/NNDL_Code and Data/glass.csv')\n",
    "\n",
    "# extracting the features and target variable from the input file \n",
    "X = data.drop('Type', axis=1)\n",
    "y = data['Type']\n",
    "\n",
    "# using train_test_split to split the data into train and test datasets\n",
    "X_train, X_test, y_train, y_test = train_test_split(X, y, test_size=0.2, random_state=42)\n",
    "\n",
    "# choosing Naive Bayes classifier\n",
    "clf = GaussianNB()\n",
    "\n",
    "# fitting the classifier with train data\n",
    "clf.fit(X_train, y_train)\n",
    "\n",
    "# checking accuracy of the model with test data\n",
    "score = clf.score(X_test, y_test)\n",
    "print(\"Accuracy:\", score*100)\n",
    "\n",
    "# checking accuracy of the model with test data using classification_report\n",
    "y_pred = clf.predict(X_test)\n",
    "report = classification_report(y_test, y_pred)\n",
    "print(\"Classification Report:\\n\", report)"
   ]
  },
  {
   "cell_type": "markdown",
   "id": "d33801da",
   "metadata": {},
   "source": [
    "### Q2. Implement linear SVM method using scikit-learn. \n",
    "* Use the same dataset above. \n",
    "* Use train_test_split to create training and testing part. \n",
    "* Evaluate the model on test part using score and"
   ]
  },
  {
   "cell_type": "code",
   "execution_count": 19,
   "id": "07498f72",
   "metadata": {},
   "outputs": [
    {
     "name": "stdout",
     "output_type": "stream",
     "text": [
      "Accuracy: 58.139534883720934\n",
      "Classification Report:\n",
      "               precision    recall  f1-score   support\n",
      "\n",
      "           1       0.75      0.55      0.63        11\n",
      "           2       0.46      0.93      0.62        14\n",
      "           3       0.00      0.00      0.00         3\n",
      "           5       1.00      0.25      0.40         4\n",
      "           6       0.00      0.00      0.00         3\n",
      "           7       0.83      0.62      0.71         8\n",
      "\n",
      "    accuracy                           0.58        43\n",
      "   macro avg       0.51      0.39      0.39        43\n",
      "weighted avg       0.59      0.58      0.53        43\n",
      "\n"
     ]
    }
   ],
   "source": [
    "import pandas as pd\n",
    "from sklearn.model_selection import train_test_split\n",
    "from sklearn.svm import LinearSVC\n",
    "from sklearn.metrics import classification_report\n",
    "import warnings\n",
    "\n",
    "warnings.filterwarnings('ignore')\n",
    "\n",
    "# using pandas to read the input csv file\n",
    "data = pd.read_csv('/Users/RehmanVasi/Downloads/NNDL_Code and Data/glass.csv')\n",
    "\n",
    "# extracting the features and target variable from the input file \n",
    "X = data.drop('Type', axis=1)\n",
    "y = data['Type']\n",
    "\n",
    "# using train_test_split to split the data into train and test datasets\n",
    "X_train, X_test, y_train, y_test = train_test_split(X, y, test_size=0.2, random_state=42)\n",
    "\n",
    "# choosing linear svm classifier\n",
    "clf = LinearSVC()\n",
    "\n",
    "# fitting the classifier with train data\n",
    "clf.fit(X_train, y_train)\n",
    "\n",
    "# checking accuracy of the model with test data\n",
    "score = clf.score(X_test, y_test)\n",
    "print(\"Accuracy:\", score*100)\n",
    "\n",
    "# checking accuracy of the model with test data using classification_report\n",
    "y_pred = clf.predict(X_test)\n",
    "report = classification_report(y_test, y_pred)\n",
    "print(\"Classification Report:\\n\", report)"
   ]
  },
  {
   "cell_type": "markdown",
   "id": "bc7cc655",
   "metadata": {},
   "source": [
    "#### SVM gave higher Accuracy, Precision, Recall, and F1-score than Naive Bayes"
   ]
  },
  {
   "cell_type": "markdown",
   "id": "121fc130",
   "metadata": {},
   "source": [
    "### Q3. Implement Linear Regression using scikit-learn. \n",
    "* Import the given “Salary_Data.csv”. \n",
    "* Split the data in train_test partitions, such that 1/3 of the data is reserved as test subset. \n",
    "* Train and predict the model. \n",
    "* Calculate the mean_squared error. \n",
    "* Visualize both train and test data using scatter plot."
   ]
  },
  {
   "cell_type": "code",
   "execution_count": 11,
   "id": "732a064a",
   "metadata": {},
   "outputs": [
    {
     "name": "stdout",
     "output_type": "stream",
     "text": [
      "Mean Squared Error: 35301898.887134895\n"
     ]
    }
   ],
   "source": [
    "import pandas as pd\n",
    "import matplotlib.pyplot as plt\n",
    "from sklearn.model_selection import train_test_split\n",
    "from sklearn.linear_model import LinearRegression\n",
    "from sklearn.metrics import mean_squared_error\n",
    "\n",
    "# using pandas to read the input csv file\n",
    "data = pd.read_csv('/Users/RehmanVasi/Downloads/NNDL_Code and Data/Salary_Data.csv')\n",
    "\n",
    "# extracting the features and target variable from the input file \n",
    "X = data.drop('Salary', axis=1)\n",
    "y = data['Salary']\n",
    "\n",
    "# using train_test_split to split the data into train and test datasets\n",
    "X_train, X_test, y_train, y_test = train_test_split(X, y, test_size=1/3, random_state=42)\n",
    "\n",
    "# creating and fitting the classifier with train data\n",
    "model = LinearRegression()\n",
    "model.fit(X_train, y_train)\n",
    "\n",
    "# predicting target value by passing test data to the model\n",
    "y_pred = model.predict(X_test)\n",
    "\n",
    "# calculating the mean squared error\n",
    "mse = mean_squared_error(y_test, y_pred)\n",
    "print(\"Mean Squared Error:\", mse)"
   ]
  },
  {
   "cell_type": "code",
   "execution_count": 18,
   "id": "03660ad4",
   "metadata": {},
   "outputs": [
    {
     "data": {
      "image/png": "[encoded data removed]",
      "text/plain": [
       "<Figure size 640x480 with 1 Axes>"
      ]
     },
     "metadata": {},
     "output_type": "display_data"
    }
   ],
   "source": [
    "# visualizing the training and test data using scatter plots\n",
    "plt.scatter(X_train, y_train, color='yellow', label='Training Data')\n",
    "plt.scatter(X_test, y_test, color='blue', label='Testing Data')\n",
    "plt.plot(X_test, y_pred, color='green', label='Regression Line')\n",
    "plt.xlabel('Experience')\n",
    "plt.ylabel('Salary')\n",
    "plt.legend()\n",
    "plt.show()"
   ]
  },
  {
   "cell_type": "code",
   "execution_count": null,
   "id": "7e82840b",
   "metadata": {},
   "outputs": [],
   "source": []
  }
 ],
 "metadata": {
  "kernelspec": {
   "display_name": "Python 3 (ipykernel)",
   "language": "python",
   "name": "python3"
  },
  "language_info": {
   "codemirror_mode": {
    "name": "ipython",
    "version": 3
   },
   "file_extension": ".py",
   "mimetype": "text/x-python",
   "name": "python",
   "nbconvert_exporter": "python",
   "pygments_lexer": "ipython3",
   "version": "3.9.13"
  }
 },
 "nbformat": 4,
 "nbformat_minor": 5
}
